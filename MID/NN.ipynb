{
  "cells": [
    {
      "cell_type": "markdown",
      "metadata": {
        "id": "9DNLin8JHMXQ"
      },
      "source": [
        "# Setup"
      ]
    },
    {
      "cell_type": "code",
      "execution_count": 13,
      "metadata": {
        "id": "WUKUYjnt0qZG"
      },
      "outputs": [],
      "source": [
        "import numpy as np\n",
        "import matplotlib.pyplot as plt\n",
        "import pandas as pd\n",
        "from sklearn.metrics import accuracy_score, precision_score, recall_score, f1_score, confusion_matrix, roc_curve, auc\n",
        "import seaborn as sns\n"
      ]
    },
    {
      "cell_type": "markdown",
      "metadata": {
        "id": "xRbzOFCDHYiK"
      },
      "source": [
        "# Read CSV file"
      ]
    },
    {
      "cell_type": "code",
      "execution_count": 14,
      "metadata": {
        "colab": {
          "base_uri": "https://localhost:8080/",
          "height": 441
        },
        "id": "z-I1Sl8k1gsz",
        "outputId": "1ca06e66-e7e3-4d04-d2bb-1a8a97ec7cc8"
      },
      "outputs": [
        {
          "name": "stdout",
          "output_type": "stream",
          "text": [
            "(450, 3)\n"
          ]
        },
        {
          "data": {
            "text/html": [
              "<div>\n",
              "<style scoped>\n",
              "    .dataframe tbody tr th:only-of-type {\n",
              "        vertical-align: middle;\n",
              "    }\n",
              "\n",
              "    .dataframe tbody tr th {\n",
              "        vertical-align: top;\n",
              "    }\n",
              "\n",
              "    .dataframe thead th {\n",
              "        text-align: right;\n",
              "    }\n",
              "</style>\n",
              "<table border=\"1\" class=\"dataframe\">\n",
              "  <thead>\n",
              "    <tr style=\"text-align: right;\">\n",
              "      <th></th>\n",
              "      <th>P1</th>\n",
              "      <th>P2</th>\n",
              "      <th>Label</th>\n",
              "    </tr>\n",
              "  </thead>\n",
              "  <tbody>\n",
              "    <tr>\n",
              "      <th>0</th>\n",
              "      <td>-2.320839</td>\n",
              "      <td>-2.895868</td>\n",
              "      <td>0</td>\n",
              "    </tr>\n",
              "    <tr>\n",
              "      <th>1</th>\n",
              "      <td>2.264439</td>\n",
              "      <td>-1.701983</td>\n",
              "      <td>1</td>\n",
              "    </tr>\n",
              "    <tr>\n",
              "      <th>2</th>\n",
              "      <td>-1.920861</td>\n",
              "      <td>-1.330257</td>\n",
              "      <td>0</td>\n",
              "    </tr>\n",
              "    <tr>\n",
              "      <th>3</th>\n",
              "      <td>-2.386946</td>\n",
              "      <td>1.707116</td>\n",
              "      <td>2</td>\n",
              "    </tr>\n",
              "    <tr>\n",
              "      <th>4</th>\n",
              "      <td>1.401760</td>\n",
              "      <td>-2.559458</td>\n",
              "      <td>1</td>\n",
              "    </tr>\n",
              "    <tr>\n",
              "      <th>...</th>\n",
              "      <td>...</td>\n",
              "      <td>...</td>\n",
              "      <td>...</td>\n",
              "    </tr>\n",
              "    <tr>\n",
              "      <th>445</th>\n",
              "      <td>1.199934</td>\n",
              "      <td>-2.736522</td>\n",
              "      <td>1</td>\n",
              "    </tr>\n",
              "    <tr>\n",
              "      <th>446</th>\n",
              "      <td>2.860024</td>\n",
              "      <td>-1.320753</td>\n",
              "      <td>1</td>\n",
              "    </tr>\n",
              "    <tr>\n",
              "      <th>447</th>\n",
              "      <td>-2.399012</td>\n",
              "      <td>-0.522074</td>\n",
              "      <td>0</td>\n",
              "    </tr>\n",
              "    <tr>\n",
              "      <th>448</th>\n",
              "      <td>1.576894</td>\n",
              "      <td>-2.445768</td>\n",
              "      <td>1</td>\n",
              "    </tr>\n",
              "    <tr>\n",
              "      <th>449</th>\n",
              "      <td>1.737100</td>\n",
              "      <td>-2.268817</td>\n",
              "      <td>1</td>\n",
              "    </tr>\n",
              "  </tbody>\n",
              "</table>\n",
              "<p>450 rows × 3 columns</p>\n",
              "</div>"
            ],
            "text/plain": [
              "           P1        P2  Label\n",
              "0   -2.320839 -2.895868      0\n",
              "1    2.264439 -1.701983      1\n",
              "2   -1.920861 -1.330257      0\n",
              "3   -2.386946  1.707116      2\n",
              "4    1.401760 -2.559458      1\n",
              "..        ...       ...    ...\n",
              "445  1.199934 -2.736522      1\n",
              "446  2.860024 -1.320753      1\n",
              "447 -2.399012 -0.522074      0\n",
              "448  1.576894 -2.445768      1\n",
              "449  1.737100 -2.268817      1\n",
              "\n",
              "[450 rows x 3 columns]"
            ]
          },
          "execution_count": 14,
          "metadata": {},
          "output_type": "execute_result"
        }
      ],
      "source": [
        "df = pd.read_csv('dataset.csv')\n",
        "print(df.shape)\n",
        "df.head(df.shape[0])"
      ]
    },
    {
      "cell_type": "code",
      "execution_count": 15,
      "metadata": {
        "id": "HhNDms5V6RcE"
      },
      "outputs": [],
      "source": [
        "# a function for 1-hot encoding the output labels\n",
        "\n",
        "def normalize(input):\n",
        "  if input == 0:\n",
        "    return [1,0,0]\n",
        "  elif input == 1:\n",
        "    return [0,1,0]\n",
        "  elif input == 2:\n",
        "    return [0,0,1]\n",
        "  else:\n",
        "    return [0, 0, 0]"
      ]
    },
    {
      "cell_type": "code",
      "execution_count": 16,
      "metadata": {
        "id": "SE6NsBgX6XKt"
      },
      "outputs": [],
      "source": [
        "X1 = df[\"P1\"].values.tolist()\n",
        "X2 = df[\"P2\"].values.tolist()\n",
        "Y = df[\"Label\"].values.tolist()"
      ]
    },
    {
      "cell_type": "code",
      "execution_count": 17,
      "metadata": {
        "colab": {
          "base_uri": "https://localhost:8080/",
          "height": 1000
        },
        "id": "7WDG2pxnaY5-",
        "outputId": "cc36021d-f65d-46ed-efe7-53bd73bd15d9"
      },
      "outputs": [
        {
          "data": {
            "image/png": "[encoded data removed]",
            "text/plain": [
              "<Figure size 800x1000 with 1 Axes>"
            ]
          },
          "metadata": {},
          "output_type": "display_data"
        }
      ],
      "source": [
        "plt.figure(figsize=(8,10))\n",
        "\n",
        "# Convert X1, X2 to NumPy arrays if they aren't already\n",
        "X1 = np.array(X1)\n",
        "X2 = np.array(X2)\n",
        "Y = np.array(Y)\n",
        "\n",
        "plt.scatter(X1[Y==0], X2[Y==0], color='red', marker='+', label='Class 0')\n",
        "plt.scatter(X1[Y==1], X2[Y==1], color='green', marker='.', label='Class 1')\n",
        "plt.scatter(X1[Y==2], X2[Y==2], color='blue', marker='x', label='Class 2')\n",
        "\n",
        "plt.xlabel('X1')\n",
        "plt.ylabel('X2')\n",
        "plt.title('Scatter Plot by Class')\n",
        "plt.legend()\n",
        "plt.grid(True)\n",
        "plt.tight_layout()\n",
        "plt.show()"
      ]
    },
    {
      "cell_type": "code",
      "execution_count": 18,
      "metadata": {
        "id": "0gOmkQro61xC"
      },
      "outputs": [],
      "source": [
        "features = list(zip(X1, X2)) #zipping the 2 input features into a list\n",
        "\n",
        "features_np = np.array(features) #converting the list into a numpy array\n",
        "\n",
        " # normalizing the output labels to be one-hot encoded and\n",
        " # turning it into a numpy array\n",
        "\n",
        "Y2 = np.array([normalize(i) for i in Y])\n",
        "\n",
        "# dividing the total set into training (300) & testing (100) sets\n",
        "\n",
        "features_train = features_np[:300]\n",
        "Y2_train = Y2[:300]\n",
        "\n",
        "features_test = features_np[300:]\n",
        "Y2_test = Y2[300:]\n",
        "\n"
      ]
    },
    {
      "cell_type": "markdown",
      "metadata": {
        "id": "xCtNFb8z7a1v"
      },
      "source": [
        "# Neural Network - Training & testing"
      ]
    },
    {
      "cell_type": "code",
      "execution_count": 19,
      "metadata": {
        "id": "KlrYyXDK_Xsz"
      },
      "outputs": [],
      "source": [
        "class NeuralNetwork(object):\n",
        "    def __init__(self, inputLayerNeurons = 2, hidden1LayerNeurons = 20, hidden2LayerNeurons = 20, hidden3LayerNeurons = 20, outLayerNeurons = 3, learning_rate = 0.001, activation_type: str = 'sigmoid'):\n",
        "\n",
        "        self.activation_type = activation_type\n",
        "        self.learning_rate = learning_rate\n",
        "\n",
        "        # random weight initialization\n",
        "        self.W_H1I = np.random.randn(inputLayerNeurons, hidden1LayerNeurons)\n",
        "        self.W_H2H1 = np.random.randn(hidden1LayerNeurons, hidden2LayerNeurons)\n",
        "        self.W_H3H2 = np.random.randn(hidden2LayerNeurons, hidden3LayerNeurons)\n",
        "        self.W_OH3 = np.random.randn(hidden3LayerNeurons, outLayerNeurons)\n",
        "\n",
        "        # random bias initialization\n",
        "        self.biases = [\n",
        "            np.random.randn(hidden1LayerNeurons),\n",
        "            np.random.randn(hidden2LayerNeurons),\n",
        "            np.random.randn(hidden3LayerNeurons),\n",
        "            np.random.randn(outLayerNeurons)\n",
        "        ]\n",
        "\n",
        "    def activation(self, x, der=False):\n",
        "        if self.activation_type == 'sigmoid':\n",
        "            if der == True:\n",
        "                return np.exp(-x) / (1 + np.exp(-x))**2 # return x * (1-x)\n",
        "            else:\n",
        "                return 1 / (1 + np.exp(-x)) # 1 / (1 + e^-x)\n",
        "\n",
        "        \n",
        "    def feedForward(self, X):\n",
        "        hidden1_input = np.dot(X, self.W_H1I) + self.biases[0]\n",
        "        self.hidden1_output = self.activation(hidden1_input)\n",
        "\n",
        "        hidden2_input = np.dot(self.hidden1_output, self.W_H2H1) + self.biases[1]\n",
        "        self.hidden2_output = self.activation(hidden2_input)\n",
        "\n",
        "        hidden3_input = np.dot(self.hidden2_output, self.W_H3H2) + self.biases[2]\n",
        "        self.hidden3_output = self.activation(hidden3_input)\n",
        "\n",
        "        output_input = np.dot(self.hidden3_output, self.W_OH3) + self.biases[3]\n",
        "        pred = self.activation(output_input)\n",
        "        return pred\n",
        "\n",
        "    def backPropagation(self, X, Y, pred):\n",
        "        output_error = Y - pred\n",
        "        output_delta = self.learning_rate * output_error * self.activation(pred, der=True)\n",
        "\n",
        "        hidden3_error = output_delta.dot(self.W_OH3.T)\n",
        "        hidden3_delta = self.learning_rate * hidden3_error * self.activation(self.hidden3_output, der=True)\n",
        "\n",
        "        hidden2_error = hidden3_delta.dot(self.W_H3H2.T)\n",
        "        hidden2_delta = self.learning_rate * hidden2_error * self.activation(self.hidden2_output, der=True)\n",
        "\n",
        "        hidden1_error = hidden2_delta.dot(self.W_H2H1.T)\n",
        "        hidden1_delta = self.learning_rate * hidden1_error * self.activation(self.hidden1_output, der=True)\n",
        "\n",
        "        self.W_H1I += X.T.dot(hidden1_delta)\n",
        "        self.W_H2H1 += self.hidden1_output.T.dot(hidden2_delta)\n",
        "        self.W_H3H2 += self.hidden2_output.T.dot(hidden3_delta)\n",
        "        self.W_OH3 += self.hidden3_output.T.dot(output_delta)\n",
        "\n",
        "        self.biases[0] += self.learning_rate * np.sum(hidden1_delta, axis=0)\n",
        "        self.biases[1] += self.learning_rate * np.sum(hidden2_delta, axis=0)\n",
        "        self.biases[2] += self.learning_rate * np.sum(hidden3_delta, axis=0)\n",
        "        self.biases[3] += self.learning_rate * np.sum(output_delta, axis=0)\n",
        "\n",
        "    def train(self, X, Y):\n",
        "        output = self.feedForward(X)\n",
        "        self.backPropagation(X,Y,output)\n"
      ]
    },
    {
      "cell_type": "code",
      "execution_count": 20,
      "metadata": {
        "colab": {
          "base_uri": "https://localhost:8080/",
          "height": 638
        },
        "id": "CQ8xkzyF_qFn",
        "outputId": "fd3e833e-59a6-41c3-c076-c55d37d785bd"
      },
      "outputs": [
        {
          "name": "stdout",
          "output_type": "stream",
          "text": [
            "Epoch: 0, error: 0.41867439795777917\n",
            "Epoch: 10000, error: 0.008867155035955417\n",
            "Epoch: 20000, error: 0.0073861098371384905\n",
            "Epoch: 30000, error: 0.006794319166115304\n",
            "Epoch: 40000, error: 0.006431564818541828\n",
            "Epoch: 50000, error: 0.006166214570515625\n",
            "Epoch: 60000, error: 0.005954821718562141\n",
            "Epoch: 70000, error: 0.005778884467046009\n",
            "Epoch: 80000, error: 0.0056290071671972475\n",
            "Epoch: 90000, error: 0.005499666447839273\n"
          ]
        },
        {
          "data": {
            "image/png": "[encoded data removed]",
            "text/plain": [
              "<Figure size 640x480 with 1 Axes>"
            ]
          },
          "metadata": {},
          "output_type": "display_data"
        }
      ],
      "source": [
        "NN = NeuralNetwork(activation_type = 'sigmoid')\n",
        "\n",
        "err_list = []\n",
        "\n",
        "for i in range(100000):\n",
        "    NN.train(features_train,Y2_train)\n",
        "    err = np.mean(np.square(Y2_train - NN.feedForward(features_train)))\n",
        "\n",
        "    if i % 10000 == 0:\n",
        "      err_list.append(err)\n",
        "      print(f'Epoch: {i}, error: {err}')\n",
        "\n",
        "plt.plot(err_list)\n",
        "plt.show()"
      ]
    },
    {
      "cell_type": "code",
      "execution_count": 21,
      "metadata": {},
      "outputs": [
        {
          "name": "stdout",
          "output_type": "stream",
          "text": [
            "{'Class-0': np.float64(1.1689896912989626e-05), 'Class-1': np.float64(99.46247772480956), 'Class-2': np.float64(7.1566715860475805)}\n",
            "Class-1\n"
          ]
        }
      ],
      "source": [
        "# stores a dict with the probability of each class with its class name\n",
        "\n",
        "def getProb(pred):\n",
        "    return {f'Class-{index}': p*100 for index, p in enumerate(pred)}\n",
        "\n",
        "# returns the dict key with the highest probablity\n",
        "\n",
        "def getClass(dict):\n",
        "  max_key = max(dict, key=dict.get)\n",
        "  return (max_key)\n",
        "\n",
        "# testing a random input\n",
        "\n",
        "pred = NN.feedForward([1,1])\n",
        "print(getProb(pred))\n",
        "print(getClass(getProb(pred)))  "
      ]
    },
    {
      "cell_type": "markdown",
      "metadata": {
        "id": "HgFtJVKfAzps"
      },
      "source": [
        "#Performance Metrics"
      ]
    },
    {
      "cell_type": "code",
      "execution_count": 22,
      "metadata": {
        "colab": {
          "base_uri": "https://localhost:8080/"
        },
        "id": "Qh17DOk4A1uh",
        "outputId": "c5cda719-21cc-4609-96bd-ef8005541ecf"
      },
      "outputs": [
        {
          "name": "stdout",
          "output_type": "stream",
          "text": [
            "Overall Accuracy: 0.9866666666666667\n",
            "Precision for each class:\n",
            "Class 0: 1.0\n",
            "Class 1: 1.0\n",
            "Class 2: 0.9661016949152542\n",
            "Recall: 0.9848484848484849\n",
            "F1 Score overall: 0.9865009355787223\n",
            "F1 Scores for each class:\n",
            "Class 0: 0.9767441860465116\n",
            "Class 1: 1.0\n",
            "Class 2: 0.9827586206896551\n"
          ]
        }
      ],
      "source": [
        "predictions = NN.feedForward(features_test)\n",
        "\n",
        "\n",
        "# Calculate recall and F1 score\n",
        "Y_true = np.argmax(Y2_test, axis=1)\n",
        "Y_pred = np.argmax(predictions, axis=1)\n",
        "\n",
        "accuracy = accuracy_score(Y_true, Y_pred)\n",
        "print(f\"Overall Accuracy: {accuracy}\")\n",
        "\n",
        "precision = precision_score(Y_true, Y_pred, average=None)\n",
        "print(\"Precision for each class:\")\n",
        "for i, score in enumerate(precision):\n",
        "    print(f\"Class {i}: {score}\")\n",
        "\n",
        "recall = recall_score(Y_true, Y_pred, average='macro')\n",
        "print(f\"Recall: {recall}\")\n",
        "\n",
        "f1 = f1_score(Y_true, Y_pred, average='macro')\n",
        "print(f\"F1 Score overall: {f1}\")\n",
        "\n",
        "# f1 score fr each class\n",
        "\n",
        "f1_scores = f1_score(Y_true, Y_pred, average=None)\n",
        "\n",
        "print(\"F1 Scores for each class:\")\n",
        "for i, score in enumerate(f1_scores):\n",
        "    print(f\"Class {i}: {score}\")"
      ]
    },
    {
      "cell_type": "markdown",
      "metadata": {
        "id": "TXJ_XsdkBMPj"
      },
      "source": [
        "#Documentation"
      ]
    },
    {
      "cell_type": "markdown",
      "metadata": {
        "id": "hjePkspfBSAq"
      },
      "source": [
        "**Output Layer Adjustment:**\n",
        "The number of neurons in the output layer was modified from 1 to 3 to support classification across five distinct classes, utilizing a one-hot encoded output format.\n",
        "Incorporation of Additional Hidden Layers:\n",
        "Two new parameters were added to define the architecture of the expanded neural network:\n",
        "\n",
        "**hidden2LayerNeurons:** Specifies the number of neurons in the second hidden layer (configured to 20).\n",
        "**hidden3LayerNeurons:** Defines the number of neurons in the third hidden layer (set to 20).\n",
        "\n",
        "**Expanded Weight Matrices:**\n",
        "To accommodate the deeper network structure, two additional weight matrices were introduced:\n",
        "\n",
        "**W_H2H1:** Matrix of weights connecting Hidden Layer 1 to Hidden Layer 2.\n",
        "**W_H3H2:** Matrix of weights linking Hidden Layer 2 to Hidden Layer 3.\n",
        "\n",
        "**Bias Management Using a List Structure:**\n",
        "A biases list was implemented, with each entry containing the bias vector for a specific layer (Hidden1, Hidden2, Hidden3, and Output). This structure ensures proper alignment of biases with the neuron count in each layer"
      ]
    }
  ],
  "metadata": {
    "colab": {
      "provenance": []
    },
    "kernelspec": {
      "display_name": "Python 3",
      "name": "python3"
    },
    "language_info": {
      "codemirror_mode": {
        "name": "ipython",
        "version": 3
      },
      "file_extension": ".py",
      "mimetype": "text/x-python",
      "name": "python",
      "nbconvert_exporter": "python",
      "pygments_lexer": "ipython3",
      "version": "3.12.10"
    }
  },
  "nbformat": 4,
  "nbformat_minor": 0
}
