{
 "cells": [
  {
   "cell_type": "code",
   "execution_count": 1,
   "id": "72dd64fa",
   "metadata": {},
   "outputs": [],
   "source": [
    "\n",
    "import cv2\n",
    "import numpy as np\n",
    "from tensorflow.keras.models import load_model\n",
    "import time\n"
   ]
  },
  {
   "cell_type": "code",
   "execution_count": 5,
   "id": "0acf28f2",
   "metadata": {},
   "outputs": [
    {
     "name": "stdout",
     "output_type": "stream",
     "text": [
      "model loaded successfully!\n"
     ]
    }
   ],
   "source": [
    "\n",
    "model = load_model(\"model.keras\")\n",
    "print(\"model loaded successfully!\")"
   ]
  },
  {
   "cell_type": "code",
   "execution_count": 6,
   "id": "5ede5341",
   "metadata": {},
   "outputs": [
    {
     "name": "stdout",
     "output_type": "stream",
     "text": [
      "Show digits to the camera. Press 'q' to quit\n"
     ]
    }
   ],
   "source": [
    "\n",
    "# Open camera\n",
    "cap = cv2.VideoCapture(0)\n",
    "if not cap.isOpened():\n",
    "    print(\"Camera not found!\")\n",
    "    exit()\n",
    "\n",
    "print(\"Show digits to the camera. Press 'q' to quit\")\n",
    "\n",
    "while True:\n",
    "    ret, frame = cap.read()\n",
    "    if not ret:\n",
    "        break\n",
    "\n",
    "    # Get region of interest (center box)\n",
    "    h, w, _ = frame.shape\n",
    "    box_w, box_h = int(w*0.6), int(h*0.6)\n",
    "    x1, y1 = w//2 - box_w//2, h//2 - box_h//2\n",
    "    x2, y2 = x1 + box_w, y1 + box_h\n",
    "    roi = frame[y1:y2, x1:x2]\n",
    "\n",
    "    # Preprocess for model\n",
    "    gray = cv2.cvtColor(roi, cv2.COLOR_BGR2GRAY)\n",
    "    resized = cv2.resize(gray, (28, 28)) / 255.0\n",
    "    input_data = np.expand_dims(resized, axis=(0, -1))\n",
    "\n",
    "    # Predict digit\n",
    "    preds = model.predict(input_data, verbose=0)\n",
    "    digit = np.argmax(preds)\n",
    "    confidence = np.max(preds)\n",
    "\n",
    "    # Show results\n",
    "    if confidence > 0.7:\n",
    "        text = f\"Digit: {digit} ({confidence:.2f})\"\n",
    "        color = (0, 255, 0)\n",
    "    else:\n",
    "        text = \"Searching for digit...\"\n",
    "        color = (0, 0, 255)\n",
    "\n",
    "    cv2.putText(frame, text, (50, 80), cv2.FONT_HERSHEY_SIMPLEX, 1.2, color, 3)\n",
    "    cv2.rectangle(frame, (x1, y1), (x2, y2), (255, 0, 0), 3)\n",
    "\n",
    "    cv2.imshow(\"Digit Detection\", frame)\n",
    "\n",
    "    if cv2.waitKey(1) & 0xFF == ord(\"q\"):\n",
    "        break\n",
    "\n",
    "cap.release()\n",
    "cv2.destroyAllWindows()\n",
    "\n",
    "  "
   ]
  }
 ],
 "metadata": {
  "kernelspec": {
   "display_name": "Python 3",
   "language": "python",
   "name": "python3"
  },
  "language_info": {
   "codemirror_mode": {
    "name": "ipython",
    "version": 3
   },
   "file_extension": ".py",
   "mimetype": "text/x-python",
   "name": "python",
   "nbconvert_exporter": "python",
   "pygments_lexer": "ipython3",
   "version": "3.12.10"
  }
 },
 "nbformat": 4,
 "nbformat_minor": 5
}
